{
 "cells": [
  {
   "cell_type": "markdown",
   "id": "953effcf-f4dd-4022-a959-7ea0458cf6ae",
   "metadata": {},
   "source": [
    "# Пример получения прогноза ИПЦ\n"
   ]
  },
  {
   "cell_type": "code",
   "execution_count": 1,
   "id": "b246cf93-f3b5-43ce-8331-d3d5a4fb205b",
   "metadata": {},
   "outputs": [],
   "source": [
    "import pandas as pd\n",
    "import numpy as np\n",
    "from datetime import date\n",
    "import matplotlib.pyplot as plt\n",
    "import requests\n",
    "import json"
   ]
  },
  {
   "cell_type": "markdown",
   "id": "a043089b-8aee-4fe4-ad4b-5ff6e743d660",
   "metadata": {},
   "source": [
    "# Список признаков"
   ]
  },
  {
   "cell_type": "code",
   "execution_count": 10,
   "id": "4bef2020-ecdf-4ac6-9307-4025339389d1",
   "metadata": {},
   "outputs": [
    {
     "data": {
      "text/plain": [
       "{'interest_rate': {'dataset_uuid': '87d93650-33f7-44b2-96df-6d520fa76c12',\n",
       "  'description': 'Базовая ставка - краткосрочная, %, Россия'},\n",
       " 'curs': {'dataset_uuid': '5e5ac82a-ab76-4567-b095-92f8064acb51',\n",
       "  'description': 'Официальный курс доллара США на заданную дату, устанавливаемый ежедневно'},\n",
       " 'money_supply': {'dataset_uuid': '92b26933-97ab-45ab-9d52-18f509e193cb',\n",
       "  'description': 'Денежная масса, млрд нац ден ед, Россия'},\n",
       " 'm0_agg': {'dataset_uuid': 'None',\n",
       "  'description': 'Денежный аггрегат М0, Россия'}}"
      ]
     },
     "execution_count": 10,
     "metadata": {},
     "output_type": "execute_result"
    }
   ],
   "source": [
    "base_url = 'http://localhost:5051/forecast/api'\n",
    "\n",
    "feature_list = requests.get(url=base_url + '/v1/ipc/features_list').json()\n",
    "feature_list"
   ]
  },
  {
   "cell_type": "markdown",
   "id": "a9e40df1-f49f-4f29-bf6c-f5d324a92586",
   "metadata": {},
   "source": [
    "# Импорт данных"
   ]
  },
  {
   "cell_type": "code",
   "execution_count": 9,
   "id": "24b04c18-45a3-4d4d-a646-d6aed26baaea",
   "metadata": {},
   "outputs": [
    {
     "data": {
      "text/html": [
       "<div>\n",
       "<style scoped>\n",
       "    .dataframe tbody tr th:only-of-type {\n",
       "        vertical-align: middle;\n",
       "    }\n",
       "\n",
       "    .dataframe tbody tr th {\n",
       "        vertical-align: top;\n",
       "    }\n",
       "\n",
       "    .dataframe thead th {\n",
       "        text-align: right;\n",
       "    }\n",
       "</style>\n",
       "<table border=\"1\" class=\"dataframe\">\n",
       "  <thead>\n",
       "    <tr style=\"text-align: right;\">\n",
       "      <th></th>\n",
       "      <th>dataset</th>\n",
       "      <th>date</th>\n",
       "      <th>Базовый индекс потребительских цен, индекс, Россия</th>\n",
       "    </tr>\n",
       "  </thead>\n",
       "  <tbody>\n",
       "    <tr>\n",
       "      <th>0</th>\n",
       "      <td>69798</td>\n",
       "      <td>31.01.2003</td>\n",
       "      <td>1.0120</td>\n",
       "    </tr>\n",
       "    <tr>\n",
       "      <th>1</th>\n",
       "      <td>69798</td>\n",
       "      <td>28.02.2003</td>\n",
       "      <td>1.0088</td>\n",
       "    </tr>\n",
       "    <tr>\n",
       "      <th>2</th>\n",
       "      <td>69798</td>\n",
       "      <td>31.03.2003</td>\n",
       "      <td>1.0068</td>\n",
       "    </tr>\n",
       "  </tbody>\n",
       "</table>\n",
       "</div>"
      ],
      "text/plain": [
       "   dataset        date  Базовый индекс потребительских цен, индекс, Россия\n",
       "0    69798  31.01.2003                                             1.0120 \n",
       "1    69798  28.02.2003                                             1.0088 \n",
       "2    69798  31.03.2003                                             1.0068 "
      ]
     },
     "execution_count": 9,
     "metadata": {},
     "output_type": "execute_result"
    }
   ],
   "source": [
    "ipc = pd.read_csv(f'./raw_data/Базовый индекс потребительских цен.csv', sep=';')\n",
    "ipc.head(3)"
   ]
  },
  {
   "cell_type": "code",
   "execution_count": 69,
   "id": "598eb8c4-9a44-4472-9802-f2ac65eb5662",
   "metadata": {},
   "outputs": [],
   "source": [
    "path = './raw_data/'\n",
    "\n",
    "interest_rate = pd.read_csv(path + '/87d93650-33f7-44b2-96df-6d520fa76c12.csv', sep=';')\n",
    "curs = pd.read_csv(path + '5e5ac82a-ab76-4567-b095-92f8064acb51.csv', sep=';')\n",
    "money_supply = pd.read_csv(path + 'Денежная масса, млрд нац ден ед, Россия — Диаграмма.csv', sep=';')\n",
    "\n",
    "# не добавили на сайт, беру из папки\n",
    "m0_agg = pd.read_csv(path + 'Денежный аггрегат M0.csv')"
   ]
  },
  {
   "cell_type": "code",
   "execution_count": 71,
   "id": "6b7cfac1-de82-4bcb-af2d-025969df70fe",
   "metadata": {},
   "outputs": [
    {
     "data": {
      "text/html": [
       "<div>\n",
       "<style scoped>\n",
       "    .dataframe tbody tr th:only-of-type {\n",
       "        vertical-align: middle;\n",
       "    }\n",
       "\n",
       "    .dataframe tbody tr th {\n",
       "        vertical-align: top;\n",
       "    }\n",
       "\n",
       "    .dataframe thead th {\n",
       "        text-align: right;\n",
       "    }\n",
       "</style>\n",
       "<table border=\"1\" class=\"dataframe\">\n",
       "  <thead>\n",
       "    <tr style=\"text-align: right;\">\n",
       "      <th></th>\n",
       "      <th>date</th>\n",
       "      <th>Денежный агрегат М0</th>\n",
       "    </tr>\n",
       "  </thead>\n",
       "  <tbody>\n",
       "    <tr>\n",
       "      <th>0</th>\n",
       "      <td>01.01.2001</td>\n",
       "      <td>418.9</td>\n",
       "    </tr>\n",
       "    <tr>\n",
       "      <th>1</th>\n",
       "      <td>01.02.2001</td>\n",
       "      <td>379.7</td>\n",
       "    </tr>\n",
       "    <tr>\n",
       "      <th>2</th>\n",
       "      <td>01.03.2001</td>\n",
       "      <td>387.6</td>\n",
       "    </tr>\n",
       "    <tr>\n",
       "      <th>3</th>\n",
       "      <td>01.04.2001</td>\n",
       "      <td>399.0</td>\n",
       "    </tr>\n",
       "    <tr>\n",
       "      <th>4</th>\n",
       "      <td>01.05.2001</td>\n",
       "      <td>435.0</td>\n",
       "    </tr>\n",
       "    <tr>\n",
       "      <th>...</th>\n",
       "      <td>...</td>\n",
       "      <td>...</td>\n",
       "    </tr>\n",
       "    <tr>\n",
       "      <th>264</th>\n",
       "      <td>01.01.2023</td>\n",
       "      <td>15435.7</td>\n",
       "    </tr>\n",
       "    <tr>\n",
       "      <th>265</th>\n",
       "      <td>01.02.2023</td>\n",
       "      <td>15361.2</td>\n",
       "    </tr>\n",
       "    <tr>\n",
       "      <th>266</th>\n",
       "      <td>01.03.2023</td>\n",
       "      <td>15576.6</td>\n",
       "    </tr>\n",
       "    <tr>\n",
       "      <th>267</th>\n",
       "      <td>01.04.2023</td>\n",
       "      <td>15819.6</td>\n",
       "    </tr>\n",
       "    <tr>\n",
       "      <th>268</th>\n",
       "      <td>01.05.2023</td>\n",
       "      <td>16242.0</td>\n",
       "    </tr>\n",
       "  </tbody>\n",
       "</table>\n",
       "<p>269 rows × 2 columns</p>\n",
       "</div>"
      ],
      "text/plain": [
       "           date  Денежный агрегат М0\n",
       "0    01.01.2001                418.9\n",
       "1    01.02.2001                379.7\n",
       "2    01.03.2001                387.6\n",
       "3    01.04.2001                399.0\n",
       "4    01.05.2001                435.0\n",
       "..          ...                  ...\n",
       "264  01.01.2023              15435.7\n",
       "265  01.02.2023              15361.2\n",
       "266  01.03.2023              15576.6\n",
       "267  01.04.2023              15819.6\n",
       "268  01.05.2023              16242.0\n",
       "\n",
       "[269 rows x 2 columns]"
      ]
     },
     "execution_count": 71,
     "metadata": {},
     "output_type": "execute_result"
    }
   ],
   "source": [
    "m0_agg"
   ]
  },
  {
   "cell_type": "markdown",
   "id": "c1aec3e3-0619-4466-a1fa-57a8c541f957",
   "metadata": {},
   "source": [
    "# Формирование запроса"
   ]
  },
  {
   "cell_type": "code",
   "execution_count": 72,
   "id": "0458706e-735f-4dd0-9d08-40061007d2f0",
   "metadata": {},
   "outputs": [],
   "source": [
    "catboost_params = {\n",
    "    \"depth\": 3,\n",
    "    \"learning_rate\": 1,\n",
    "    \"l2_leaf_reg\": 0.005,\n",
    "    \"iterations\": 8\n",
    "}"
   ]
  },
  {
   "cell_type": "code",
   "execution_count": 74,
   "id": "0628ff33-4d31-4784-bb3c-26b1c0c62402",
   "metadata": {},
   "outputs": [],
   "source": [
    "url = base_url + '/v1/ipc/catboost'\n",
    "\n",
    "data = {\n",
    "    \"hparams\":  catboost_params,    \n",
    "    \"ipc\":      {\n",
    "        \"dates\": list(ipc.date),\n",
    "        \"values\": list(ipc['Базовый индекс потребительских цен, индекс, Россия'])\n",
    "    },\n",
    "    \"features\": {\n",
    "        \"curs\":          {\"dates\": list(curs.date),          \"values\": list(curs['values'])},\n",
    "        \"interest_rate\": {\"dates\": list(interest_rate.date), \"values\": list(interest_rate['values'])},\n",
    "        \"money_supply\":  {\"dates\": list(money_supply.date),  \"values\": list(money_supply['Денежная масса, млрд нац ден ед, Россия'])},\n",
    "        \"agg_m0\":        {\"dates\": list(m0_agg.date),        \"values\": list(m0_agg['Денежный агрегат М0'])}\n",
    "    }\n",
    "}"
   ]
  },
  {
   "cell_type": "markdown",
   "id": "f337131f-d5bb-4d88-9f1f-98ab84a2d970",
   "metadata": {},
   "source": [
    "# Отправляем запрос"
   ]
  },
  {
   "cell_type": "code",
   "execution_count": 106,
   "id": "b617591e-e4a1-417e-8622-80aa0b3d579a",
   "metadata": {},
   "outputs": [
    {
     "name": "stdout",
     "output_type": "stream",
     "text": [
      "response.status_code = 200\n"
     ]
    }
   ],
   "source": [
    "with requests.post(url=url, json=data) as response:\n",
    "    print(f'{response.status_code = }')\n",
    "    forecast = response.json()"
   ]
  },
  {
   "cell_type": "code",
   "execution_count": 107,
   "id": "0acb20a3-7f72-4852-a84d-d0426a8cfe1c",
   "metadata": {},
   "outputs": [
    {
     "data": {
      "text/plain": [
       "{'previous': [1.0351326929236637,\n",
       "  1.0235760391309061,\n",
       "  1.0122924496285175,\n",
       "  1.006366770677454,\n",
       "  1.006366770677454,\n",
       "  1.0054918109266124,\n",
       "  1.0054918109266124,\n",
       "  1.0062125700316151,\n",
       "  1.006366770677454,\n",
       "  1.0064213007477012,\n",
       "  1.0056366867353268,\n",
       "  1.0050742993736455,\n",
       "  1.009174631709322,\n",
       "  1.0081550767252563,\n",
       "  1.0064298078411347,\n",
       "  1.0054918109266124,\n",
       "  1.0054918109266124,\n",
       "  1.0054918109266124,\n",
       "  1.003703411624061,\n",
       "  1.0042519611322986,\n",
       "  1.003703411624061,\n",
       "  1.0041363024591232,\n",
       "  1.0023479031565719,\n",
       "  1.0036936610276344,\n",
       "  1.0023475552717231,\n",
       "  1.0036936610276344,\n",
       "  1.0017892551670589,\n",
       "  1.0018866371978603,\n",
       "  1.0018866371978603,\n",
       "  1.0018866371978603,\n",
       "  1.0018866371978603,\n",
       "  1.0018866371978603,\n",
       "  1.0018866371978603,\n",
       "  1.0017892551670589,\n",
       "  1.0018866371978603,\n",
       "  1.0018866371978603,\n",
       "  1.0023475552717231,\n",
       "  1.0017892551670589,\n",
       "  1.0018866371978603,\n",
       "  1.0018866371978603,\n",
       "  1.0017892551670589,\n",
       "  1.0017892551670589,\n",
       "  1.0042519611322986,\n",
       "  1.0023475552717231,\n",
       "  1.0042519611322986,\n",
       "  1.0041363024591232,\n",
       "  1.0041363024591232,\n",
       "  1.0041363024591232,\n",
       "  1.0054918109266124,\n",
       "  1.0041363024591232,\n",
       "  1.0036936610276344,\n",
       "  1.0017892551670589,\n",
       "  1.0017892551670589,\n",
       "  1.0017892551670589,\n",
       "  1.0017892551670589,\n",
       "  1.0017892551670589,\n",
       "  1.0017892551670589,\n",
       "  1.00159782224151,\n",
       "  1.00159782224151,\n",
       "  1.0015004402107086,\n",
       "  1.00159782224151,\n",
       "  1.0015004402107086,\n",
       "  1.0038363167403819,\n",
       "  1.004401183645566,\n",
       "  1.0045709678395933,\n",
       "  1.0029967372298951,\n",
       "  1.0022050715680657,\n",
       "  1.0033907958415276,\n",
       "  1.0033907958415276,\n",
       "  1.0030008506310986,\n",
       "  1.0049534623570635,\n",
       "  1.0049534623570635,\n",
       "  1.0049534623570635,\n",
       "  1.0049534623570635,\n",
       "  1.0077057369182099,\n",
       "  1.0066200877697347,\n",
       "  1.0077057369182099,\n",
       "  1.0066200877697347,\n",
       "  1.0066200877697347,\n",
       "  1.0077057369182099,\n",
       "  1.007717301012372,\n",
       "  1.0073047675919764,\n",
       "  1.0085450219356855,\n",
       "  1.0071895134681963,\n",
       "  1.0076155321145965,\n",
       "  1.0103514036672367,\n",
       "  1.090467561950022,\n",
       "  1.0201009034691864,\n",
       "  1.005065792280212,\n",
       "  1.0023479031565719,\n",
       "  0.9994743128728296,\n",
       "  1.0020014105087478,\n",
       "  1.0020014105087478,\n",
       "  0.9994743128728296,\n",
       "  1.0018866371978603,\n",
       "  0.9994743128728296,\n",
       "  1.0028246341123825,\n",
       "  1.0015980340608137,\n",
       "  1.0041251316967321,\n",
       "  1.0054274370051894,\n",
       "  1.003523031144614],\n",
       " 'predict': [1.003523031144614, 1.0011038077396324, 1.002491583870065],\n",
       " 'scores': [{'mape': 0.0007581549678362699, 'r2_score': 0.9897960681459469}]}"
      ]
     },
     "execution_count": 107,
     "metadata": {},
     "output_type": "execute_result"
    }
   ],
   "source": [
    "forecast"
   ]
  },
  {
   "cell_type": "markdown",
   "id": "064b6d9c-6107-4ba1-ba32-ba6710dd3eac",
   "metadata": {},
   "source": [
    "# Визуализация"
   ]
  },
  {
   "cell_type": "code",
   "execution_count": 108,
   "id": "5cb8a4ed-5f18-4587-b41f-621ae69a3019",
   "metadata": {},
   "outputs": [],
   "source": [
    "import matplotlib.pyplot as plt\n",
    "from datetime import datetime"
   ]
  },
  {
   "cell_type": "code",
   "execution_count": 113,
   "id": "d4f6e829-204b-4da5-9f3d-ad744ff47e6a",
   "metadata": {},
   "outputs": [
    {
     "data": {
      "text/html": [
       "<div>\n",
       "<style scoped>\n",
       "    .dataframe tbody tr th:only-of-type {\n",
       "        vertical-align: middle;\n",
       "    }\n",
       "\n",
       "    .dataframe tbody tr th {\n",
       "        vertical-align: top;\n",
       "    }\n",
       "\n",
       "    .dataframe thead th {\n",
       "        text-align: right;\n",
       "    }\n",
       "</style>\n",
       "<table border=\"1\" class=\"dataframe\">\n",
       "  <thead>\n",
       "    <tr style=\"text-align: right;\">\n",
       "      <th></th>\n",
       "      <th>dataset</th>\n",
       "      <th>date</th>\n",
       "      <th>Базовый индекс потребительских цен, индекс, Россия</th>\n",
       "    </tr>\n",
       "  </thead>\n",
       "  <tbody>\n",
       "    <tr>\n",
       "      <th>243</th>\n",
       "      <td>69798</td>\n",
       "      <td>2023-04-30</td>\n",
       "      <td>1.0031</td>\n",
       "    </tr>\n",
       "    <tr>\n",
       "      <th>244</th>\n",
       "      <td>69798</td>\n",
       "      <td>2023-05-31</td>\n",
       "      <td>1.0052</td>\n",
       "    </tr>\n",
       "    <tr>\n",
       "      <th>245</th>\n",
       "      <td>69798</td>\n",
       "      <td>2023-06-30</td>\n",
       "      <td>1.0049</td>\n",
       "    </tr>\n",
       "  </tbody>\n",
       "</table>\n",
       "</div>"
      ],
      "text/plain": [
       "     dataset       date  Базовый индекс потребительских цен, индекс, Россия\n",
       "243    69798 2023-04-30                                             1.0031 \n",
       "244    69798 2023-05-31                                             1.0052 \n",
       "245    69798 2023-06-30                                             1.0049 "
      ]
     },
     "execution_count": 113,
     "metadata": {},
     "output_type": "execute_result"
    }
   ],
   "source": [
    "ipc.date = pd.to_datetime(ipc.date, format='%d.%m.%Y')\n",
    "ipc.tail(3)"
   ]
  },
  {
   "cell_type": "code",
   "execution_count": 122,
   "id": "cba18822-b6bd-4a38-b2fd-bae6890279dc",
   "metadata": {},
   "outputs": [],
   "source": [
    "next_data = [datetime(year=2023, month=i, day=1) for i in range(7, 10)]"
   ]
  },
  {
   "cell_type": "code",
   "execution_count": 127,
   "id": "a9361b79-a4ed-4690-bf01-3294a017c3b1",
   "metadata": {},
   "outputs": [
    {
     "data": {
      "image/png": "[encoded data removed]",
      "text/plain": [
       "<Figure size 1500x800 with 1 Axes>"
      ]
     },
     "metadata": {},
     "output_type": "display_data"
    }
   ],
   "source": [
    "fig, ax = plt.subplots(figsize=(15, 8))\n",
    "\n",
    "ax.set_title('Индекс потребительских цен')\n",
    "\n",
    "ax.plot(ipc.date, ipc['Базовый индекс потребительских цен, индекс, Россия'], label='Фактические значения')\n",
    "ax.plot(ipc[ipc.date >= datetime(year=2015, month=1, day=1)]['date'][:-1], forecast['previous'], label='Прогноз на предыдущие значения')\n",
    "ax.plot(next_data, forecast['predict'], label='Прогноз')\n",
    "\n",
    "ax.legend()\n",
    "ax.grid()"
   ]
  }
 ],
 "metadata": {
  "kernelspec": {
   "display_name": "Python 3 (ipykernel)",
   "language": "python",
   "name": "python3"
  },
  "language_info": {
   "codemirror_mode": {
    "name": "ipython",
    "version": 3
   },
   "file_extension": ".py",
   "mimetype": "text/x-python",
   "name": "python",
   "nbconvert_exporter": "python",
   "pygments_lexer": "ipython3",
   "version": "3.11.8"
  }
 },
 "nbformat": 4,
 "nbformat_minor": 5
}
