{
 "cells": [
  {
   "cell_type": "markdown",
   "id": "9ea0f5d2-e806-4779-a71a-1a986496b691",
   "metadata": {},
   "source": [
    "# Импорт библиотек"
   ]
  },
  {
   "cell_type": "markdown",
   "id": "53cccb26-7317-4a65-8da5-650b9f32622f",
   "metadata": {},
   "source": [
    "нужны для заглушек"
   ]
  },
  {
   "cell_type": "code",
   "execution_count": 1,
   "id": "18c82202-0040-46b6-88da-bc5abea4c37a",
   "metadata": {},
   "outputs": [],
   "source": [
    "import pandas as pd\n",
    "from dataclasses import dataclass\n",
    "from pprint import pprint"
   ]
  },
  {
   "cell_type": "markdown",
   "id": "d80b6007-c7fb-4075-b7ea-77054b312dfe",
   "metadata": {},
   "source": [
    "нужны для получения данных"
   ]
  },
  {
   "cell_type": "code",
   "execution_count": 2,
   "id": "95f6f01a-f325-4589-aa87-e0f305f84262",
   "metadata": {},
   "outputs": [],
   "source": [
    "import requests\n",
    "import json"
   ]
  },
  {
   "cell_type": "markdown",
   "id": "dfdb1739-727c-4253-b1f5-083947d441ba",
   "metadata": {},
   "source": [
    "# Пример работы с сервисом\n",
    "\n",
    "Для начала работы с примером нужно локально запустить сервис либо на сервере (тогда надо будет поменять base_url)"
   ]
  },
  {
   "cell_type": "code",
   "execution_count": 3,
   "id": "6f9f8824-1273-40ce-8e27-9c7e35558df8",
   "metadata": {},
   "outputs": [],
   "source": [
    "base_url = 'http://localhost:5051/forecast/api'"
   ]
  },
  {
   "cell_type": "markdown",
   "id": "b0441f15-7565-4da5-8f1b-a7f377b90451",
   "metadata": {},
   "source": [
    "## Заглушки\n",
    "\n",
    "тут я написал классы для подобия работы с БД, им не нужно уделять внимания"
   ]
  },
  {
   "cell_type": "code",
   "execution_count": 4,
   "id": "dffa1cab-6ede-411c-861f-0f4d08fc44d6",
   "metadata": {},
   "outputs": [],
   "source": [
    "@dataclass\n",
    "class TimeSeriesDTO:\n",
    "    \"\"\"Некий DTO для общения с БД\"\"\"\n",
    "    values: list[float]\n",
    "    dates: list[str]\n",
    "\n",
    "\n",
    "class DataLake:\n",
    "    \"\"\"Подобие слоя для работы с озером даных\"\"\"\n",
    "    \n",
    "    @staticmethod\n",
    "    def get_data_by_id(dataset_uuid: str) -> TimeSeriesDTO:\n",
    "        \"\"\"\n",
    "        подобие функции, которая по id возвращает временной ряд признака из озера данных\n",
    "        \n",
    "        просто открывает csv по ключу\n",
    "        \"\"\"\n",
    "        \n",
    "        tmp = pd.read_csv(f'./raw_data/{dataset_uuid}.csv', sep=';')\n",
    "        \n",
    "        return TimeSeriesDTO(\n",
    "            values=list(tmp['values']),\n",
    "            dates=list(tmp['date'])\n",
    "        )"
   ]
  },
  {
   "cell_type": "markdown",
   "id": "319e5898-ccdb-4bbe-8a5c-25db13fd9b2a",
   "metadata": {},
   "source": [
    "# 1. Для индекса, который хотите предсказать, нужно получить список требуемых признаков\n",
    "\n",
    "_Признак - временной ряд из озера данных, который нейросеть использует для предсказания индекса. Например, для индекса промышленного производства (ИПП) это будут новостной индекс, Погрузка на сети РЖД, и так далее_\n",
    "    \n",
    "### Получить их можно по GET запросу:\n",
    "data.vavt.ru/forecast/api/v1/{имя_индекса}/features_list\n",
    "    \n",
    "- Например, для индекса промышленного производства (ipp) по GET запросу data.vavt.ru/forecast/api/v1/ipp/features_list будет такой результат:\n"
   ]
  },
  {
   "cell_type": "code",
   "execution_count": 115,
   "id": "fc798bf0-3c86-42b1-8c7a-c5de60da02fa",
   "metadata": {},
   "outputs": [],
   "source": [
    "feature_list = requests.get(url=base_url + '/v1/ipp/features_list').json()"
   ]
  },
  {
   "cell_type": "code",
   "execution_count": 116,
   "id": "f05c320e-2c20-4692-9e91-b872cd5ab2b2",
   "metadata": {},
   "outputs": [
    {
     "data": {
      "text/plain": [
       "{'news': {'dataset_uuid': '423f7092-d29b-43da-8209-f100c1fc88cd',\n",
       "  'description': 'Новостной индекс ЦБ, Россия'},\n",
       " 'cb_monitor': {'dataset_uuid': '7d38c0d5-6bae-4856-b92c-9858223cfa89',\n",
       "  'description': 'Оценка изменения спроса на продукцию, товары, услуги (промышленность), пункты, Россия'},\n",
       " 'business_clim': {'dataset_uuid': '14c74eba-c1a7-4aff-a1e3-0aa473ce8062',\n",
       "  'description': 'Индикатор бизнес-климата ЦБ (промышленность), пункты, Россия'},\n",
       " 'interest_rate': {'dataset_uuid': '87d93650-33f7-44b2-96df-6d520fa76c12',\n",
       "  'description': 'Базовая ставка - краткосрочная, %, Россия'},\n",
       " 'rzd': {'dataset_uuid': '61265b19-7635-449c-9538-b45e078fb5e9',\n",
       "  'description': 'Погрузка на сети РЖД, млн тонн, Россия'},\n",
       " 'consumer_price': {'dataset_uuid': 'f0873ac7-c29f-481b-8f47-e11c7b1b7c82',\n",
       "  'description': 'Индекс цен на электроэнергию в первой ценовой зоне, рублей за МВт/ч, Россия'},\n",
       " 'curs': {'dataset_uuid': '5e5ac82a-ab76-4567-b095-92f8064acb51',\n",
       "  'description': 'Официальный курс доллара США на заданную дату, устанавливаемый ежедневно'}}"
      ]
     },
     "execution_count": 116,
     "metadata": {},
     "output_type": "execute_result"
    }
   ],
   "source": [
    "feature_list"
   ]
  },
  {
   "cell_type": "markdown",
   "id": "2eec493a-ea0f-4e4b-923e-8c5d05014e51",
   "metadata": {},
   "source": [
    "__Схема ответа для всех индексов будет одинаковая, будет меняться число признаков, их название и uuid.__\n",
    "\n",
    "В ответе вам будет полезен database_uuid и название признаков (\"news\", \"rzd\", ... )\n",
    "Описание (\"description\") может помочь убедиться, что берете и отдаете нужные данные"
   ]
  },
  {
   "cell_type": "markdown",
   "id": "48def407-f795-4651-902b-399a2c8cf2fe",
   "metadata": {},
   "source": [
    "# 2. Получаем из озера данных данные каждого индекса\n",
    "\n",
    "Важно отметить, что вся предобработка данных происходит на нашей стороне. Агрегацию по месяцам и фильтрацию по дате проводить не нужно.\n",
    "\n",
    "Нам нужно сохранить значения и временные отметки индекса. Все индексы начинаются с разного периода времени, для этого нужно их хранить чтобы правильно отрезать нужный период времени, также для агреггации ежедневных данных в помесячные"
   ]
  },
  {
   "cell_type": "code",
   "execution_count": 117,
   "id": "59b9ca92-37da-4f83-8a3d-bafe9a16569f",
   "metadata": {},
   "outputs": [],
   "source": [
    "ipp_data: TimeSeriesDTO = DataLake.get_data_by_id(\n",
    "    dataset_uuid=\"c1c92863-1827-405e-b3e4-dea782f57316\"\n",
    ")"
   ]
  },
  {
   "cell_type": "markdown",
   "id": "ec88c18b-2942-4729-bda5-acdae3b16842",
   "metadata": {},
   "source": [
    "приводим к формату в запросе"
   ]
  },
  {
   "cell_type": "code",
   "execution_count": 150,
   "id": "be0c784a-b6a3-4f80-bd9d-8aaf440fc646",
   "metadata": {},
   "outputs": [],
   "source": [
    "ipp = {\n",
    "    \"dates\": ipp_data.dates,\n",
    "    \"values\": ipp_data.values\n",
    "}"
   ]
  },
  {
   "cell_type": "markdown",
   "id": "25c21a0b-2e22-4bda-9b14-79c8f1f651aa",
   "metadata": {},
   "source": [
    "### Пример как должны выглядеть данные\n",
    "\n",
    "На примере индекса промышленного производства"
   ]
  },
  {
   "cell_type": "code",
   "execution_count": 119,
   "id": "2c753440-cccd-4f55-a4b0-e6fc0e58b319",
   "metadata": {},
   "outputs": [
    {
     "data": {
      "text/html": [
       "<div>\n",
       "<style scoped>\n",
       "    .dataframe tbody tr th:only-of-type {\n",
       "        vertical-align: middle;\n",
       "    }\n",
       "\n",
       "    .dataframe tbody tr th {\n",
       "        vertical-align: top;\n",
       "    }\n",
       "\n",
       "    .dataframe thead th {\n",
       "        text-align: right;\n",
       "    }\n",
       "</style>\n",
       "<table border=\"1\" class=\"dataframe\">\n",
       "  <thead>\n",
       "    <tr style=\"text-align: right;\">\n",
       "      <th></th>\n",
       "      <th>dates</th>\n",
       "      <th>Индекс промышленного производства</th>\n",
       "    </tr>\n",
       "  </thead>\n",
       "  <tbody>\n",
       "    <tr>\n",
       "      <th>0</th>\n",
       "      <td>31.01.2000</td>\n",
       "      <td>110.6</td>\n",
       "    </tr>\n",
       "    <tr>\n",
       "      <th>1</th>\n",
       "      <td>29.02.2000</td>\n",
       "      <td>113.3</td>\n",
       "    </tr>\n",
       "    <tr>\n",
       "      <th>2</th>\n",
       "      <td>31.03.2000</td>\n",
       "      <td>107.6</td>\n",
       "    </tr>\n",
       "    <tr>\n",
       "      <th>3</th>\n",
       "      <td>30.04.2000</td>\n",
       "      <td>117.7</td>\n",
       "    </tr>\n",
       "    <tr>\n",
       "      <th>4</th>\n",
       "      <td>31.05.2000</td>\n",
       "      <td>110.8</td>\n",
       "    </tr>\n",
       "  </tbody>\n",
       "</table>\n",
       "</div>"
      ],
      "text/plain": [
       "        dates  Индекс промышленного производства\n",
       "0  31.01.2000                              110.6\n",
       "1  29.02.2000                              113.3\n",
       "2  31.03.2000                              107.6\n",
       "3  30.04.2000                              117.7\n",
       "4  31.05.2000                              110.8"
      ]
     },
     "execution_count": 119,
     "metadata": {},
     "output_type": "execute_result"
    }
   ],
   "source": [
    "pd.DataFrame(ipp)\\\n",
    "    .rename(columns={'values': 'Индекс промышленного производства'})\\\n",
    "    .head(5)"
   ]
  },
  {
   "cell_type": "code",
   "execution_count": 120,
   "id": "857fe8a6-2ba1-4675-844a-1bfb489dc907",
   "metadata": {},
   "outputs": [
    {
     "name": "stdout",
     "output_type": "stream",
     "text": [
      "423f7092-d29b-43da-8209-f100c1fc88cd\n",
      "7d38c0d5-6bae-4856-b92c-9858223cfa89\n",
      "14c74eba-c1a7-4aff-a1e3-0aa473ce8062\n",
      "87d93650-33f7-44b2-96df-6d520fa76c12\n",
      "61265b19-7635-449c-9538-b45e078fb5e9\n",
      "f0873ac7-c29f-481b-8f47-e11c7b1b7c82\n",
      "5e5ac82a-ab76-4567-b095-92f8064acb51\n"
     ]
    }
   ],
   "source": [
    "for feature, value in feature_list.items():\n",
    "    print(value['dataset_uuid'])"
   ]
  },
  {
   "cell_type": "code",
   "execution_count": 121,
   "id": "2ba7f80a-4ea3-4d61-b4b5-f71f1e633fd5",
   "metadata": {},
   "outputs": [],
   "source": [
    "features = dict()\n",
    "\n",
    "for feature, value in feature_list.items():\n",
    "    data: TimeSeriesDTO = DataLake.get_data_by_id(value['dataset_uuid'])\n",
    "\n",
    "    features[feature] = {\"dates\": data.dates, \"values\": data.values}"
   ]
  },
  {
   "cell_type": "markdown",
   "id": "5c179494-c5db-4a77-a3f0-bfb6b0235ab2",
   "metadata": {},
   "source": [
    "### Другой пример как должны выглядеть данные\n",
    "\n",
    "На примере новостного индекса ЦБ (news)"
   ]
  },
  {
   "cell_type": "code",
   "execution_count": 122,
   "id": "815d9a13-b631-4390-bba1-eb3ffb124a4e",
   "metadata": {},
   "outputs": [
    {
     "data": {
      "text/html": [
       "<div>\n",
       "<style scoped>\n",
       "    .dataframe tbody tr th:only-of-type {\n",
       "        vertical-align: middle;\n",
       "    }\n",
       "\n",
       "    .dataframe tbody tr th {\n",
       "        vertical-align: top;\n",
       "    }\n",
       "\n",
       "    .dataframe thead th {\n",
       "        text-align: right;\n",
       "    }\n",
       "</style>\n",
       "<table border=\"1\" class=\"dataframe\">\n",
       "  <thead>\n",
       "    <tr style=\"text-align: right;\">\n",
       "      <th></th>\n",
       "      <th>dates</th>\n",
       "      <th>Новостной индекс ЦБ</th>\n",
       "    </tr>\n",
       "  </thead>\n",
       "  <tbody>\n",
       "    <tr>\n",
       "      <th>0</th>\n",
       "      <td>01.02.2004</td>\n",
       "      <td>1.283101</td>\n",
       "    </tr>\n",
       "    <tr>\n",
       "      <th>1</th>\n",
       "      <td>01.03.2004</td>\n",
       "      <td>1.316614</td>\n",
       "    </tr>\n",
       "    <tr>\n",
       "      <th>2</th>\n",
       "      <td>01.04.2004</td>\n",
       "      <td>1.544784</td>\n",
       "    </tr>\n",
       "    <tr>\n",
       "      <th>3</th>\n",
       "      <td>01.05.2004</td>\n",
       "      <td>1.278623</td>\n",
       "    </tr>\n",
       "    <tr>\n",
       "      <th>4</th>\n",
       "      <td>01.06.2004</td>\n",
       "      <td>1.160094</td>\n",
       "    </tr>\n",
       "  </tbody>\n",
       "</table>\n",
       "</div>"
      ],
      "text/plain": [
       "        dates  Новостной индекс ЦБ\n",
       "0  01.02.2004             1.283101\n",
       "1  01.03.2004             1.316614\n",
       "2  01.04.2004             1.544784\n",
       "3  01.05.2004             1.278623\n",
       "4  01.06.2004             1.160094"
      ]
     },
     "execution_count": 122,
     "metadata": {},
     "output_type": "execute_result"
    }
   ],
   "source": [
    "pd.DataFrame(features['news'])\\\n",
    "    .rename(columns={'values': 'Новостной индекс ЦБ'})\\\n",
    "    .head(5)"
   ]
  },
  {
   "cell_type": "markdown",
   "id": "33aa2d75-2399-4925-bed7-76459b4f7ea3",
   "metadata": {},
   "source": [
    "Все временные ряды будут иметь такую структуру в запросе. Важно, чтобы значения и отметки времени были одной длины, иначе вернется ошибка валидации"
   ]
  },
  {
   "cell_type": "markdown",
   "id": "1012904e-3e36-4778-9b8f-686f078ab04f",
   "metadata": {},
   "source": [
    "# 3. Формируем запрос"
   ]
  },
  {
   "cell_type": "markdown",
   "id": "c19f7504-6acd-4d4e-af30-3b2293256922",
   "metadata": {},
   "source": [
    "Для этого нужно от пользователя получить список гиперпараметров модели и доверительный интервал.\n",
    "Например, для модели CatBoost они могут быть следующими:\n",
    "\n",
    "```json\n",
    "{\n",
    "    \"depth\": 3,\n",
    "    \"learning_rate\": 0.1,\n",
    "    \"l2_leaf_reg\": 0.005,\n",
    "    \"iterations\": 8\n",
    "}\n",
    "```"
   ]
  },
  {
   "cell_type": "code",
   "execution_count": 147,
   "id": "023a65dc-4413-445c-add5-5b5fe539e740",
   "metadata": {},
   "outputs": [],
   "source": [
    "catboost_params = {\n",
    "    \"depth\": 3,\n",
    "    \"learning_rate\": 1,\n",
    "    \"l2_leaf_reg\": 0.005,\n",
    "    \"iterations\": 8\n",
    "}"
   ]
  },
  {
   "cell_type": "code",
   "execution_count": 152,
   "id": "434ed89c-ee53-42ad-b787-5ac57b20ade1",
   "metadata": {},
   "outputs": [],
   "source": [
    "url = base_url + '/v1/ipp/catboost'\n",
    "\n",
    "data = {\n",
    "    \"hparams\":  catboost_params,     # Гиперпараметры модели\n",
    "    \"ipp\":      ipp,                 # Данные ИПП \n",
    "    \"features\": features             # Данные признаков\n",
    "}"
   ]
  },
  {
   "cell_type": "markdown",
   "id": "9bbb90cc-cdda-4e07-bed3-164aa23f60df",
   "metadata": {},
   "source": [
    "# 4. Отправляем запрос"
   ]
  },
  {
   "cell_type": "code",
   "execution_count": 153,
   "id": "bcb1f8b8-7e2e-49fd-852b-d1b668a5205e",
   "metadata": {},
   "outputs": [
    {
     "name": "stdout",
     "output_type": "stream",
     "text": [
      "response.status_code = 200\n"
     ]
    }
   ],
   "source": [
    "with requests.post(url=url, json=data) as response:\n",
    "    print(f'{response.status_code = }')\n",
    "    forecast = response.json()"
   ]
  },
  {
   "cell_type": "code",
   "execution_count": 154,
   "id": "0adabddc-927a-45dc-aa84-21d013ef8532",
   "metadata": {},
   "outputs": [
    {
     "data": {
      "text/plain": [
       "{'previous': [102.38660205326919,\n",
       "  98.46881537321939,\n",
       "  101.80134239892172,\n",
       "  100.04817956723603,\n",
       "  100.23644832772821,\n",
       "  100.23644832772821,\n",
       "  100.23644832772821,\n",
       "  100.11479885660921,\n",
       "  100.11479885660921,\n",
       "  100.11479885660921,\n",
       "  99.23899386266135,\n",
       "  99.68990886936159,\n",
       "  98.65826032730158,\n",
       "  102.80937378928644,\n",
       "  100.95705421158712,\n",
       "  100.11479885660921,\n",
       "  100.11479885660921,\n",
       "  100.11479885660921,\n",
       "  100.11479885660921,\n",
       "  99.99406168607032,\n",
       "  104.01946201867071,\n",
       "  104.01946201867071,\n",
       "  104.2609567555857,\n",
       "  104.2609567555857,\n",
       "  103.92056419159067,\n",
       "  102.28770422618913,\n",
       "  103.97649886656899,\n",
       "  103.37419588380666,\n",
       "  104.15114736102024,\n",
       "  103.74497200006117,\n",
       "  104.52834992160035,\n",
       "  105.36665923610776,\n",
       "  104.06867124790553,\n",
       "  102.73055513137847,\n",
       "  101.8748755789444,\n",
       "  101.11025780412754,\n",
       "  102.067053551856,\n",
       "  102.95796879533056,\n",
       "  104.15114736102024,\n",
       "  102.96802052284761,\n",
       "  103.82732158641672,\n",
       "  103.58582684950173,\n",
       "  103.37506219135457,\n",
       "  103.13356745443959,\n",
       "  104.46601171963584,\n",
       "  104.35067731296259,\n",
       "  103.35411475263864,\n",
       "  105.4251893759274,\n",
       "  103.14365702472286,\n",
       "  103.16997997480836,\n",
       "  103.89872484813182,\n",
       "  104.25270357472141,\n",
       "  102.9231097265238,\n",
       "  102.27924951808305,\n",
       "  104.00937244838745,\n",
       "  102.83950468597557,\n",
       "  103.35411475263864,\n",
       "  104.01946201867071,\n",
       "  102.9231097265238,\n",
       "  101.74602041220754,\n",
       "  104.00937244838745,\n",
       "  105.30849765506929,\n",
       "  101.34531205807,\n",
       "  97.45778935276174,\n",
       "  91.67537692844016,\n",
       "  95.17312926562737,\n",
       "  95.31973804195674,\n",
       "  95.3833872816667,\n",
       "  95.2735145029443,\n",
       "  94.2637054329437,\n",
       "  99.07413215318417,\n",
       "  102.35820050448095,\n",
       "  100.13439108434068,\n",
       "  96.39108495492934,\n",
       "  102.91290335010422,\n",
       "  110.60401656123739,\n",
       "  111.72358480516888,\n",
       "  110.65172612727241,\n",
       "  108.67553044662591,\n",
       "  107.51187791098786,\n",
       "  107.51187791098786,\n",
       "  106.01500728256856,\n",
       "  108.02648797765093,\n",
       "  110.17188211638751,\n",
       "  105.87684017176782,\n",
       "  107.70996157334469,\n",
       "  101.54056492640848,\n",
       "  100.28613920277978,\n",
       "  100.11479885660921,\n",
       "  100.11571115718931,\n",
       "  100.11571115718931,\n",
       "  99.9450280895988,\n",
       "  99.9450280895988,\n",
       "  100.23555642298531,\n",
       "  99.35975142903744,\n",
       "  100.23555642298531,\n",
       "  97.77062882144813,\n",
       "  95.38343266030462,\n",
       "  98.84695111173359,\n",
       "  107.28166586651444,\n",
       "  104.10352513069654,\n",
       "  104.86972248207223,\n",
       "  105.65310040361142,\n",
       "  105.65310040361142,\n",
       "  105.32198187713438,\n",
       "  104.82267588431446,\n",
       "  104.82267588431446,\n",
       "  103.91599111569793,\n",
       "  104.03929796277528,\n",
       "  106.96967774089356,\n",
       "  104.50492089807992],\n",
       " 'predict': [104.50492089807992, 110.96401013507047, 97.83296214905498],\n",
       " 'scores': [{'mape': 0.010009068233208804, 'r2_score': 0.8781989852731158}]}"
      ]
     },
     "execution_count": 154,
     "metadata": {},
     "output_type": "execute_result"
    }
   ],
   "source": [
    "forecast"
   ]
  },
  {
   "cell_type": "markdown",
   "id": "3d61977b-81a0-4373-bd2d-d48f746cbd9e",
   "metadata": {},
   "source": [
    "# График"
   ]
  },
  {
   "cell_type": "code",
   "execution_count": 155,
   "id": "04cc5609-9e54-46f8-8b7f-3b515efea0c8",
   "metadata": {},
   "outputs": [],
   "source": [
    "import matplotlib.pyplot as plt\n",
    "from datetime import datetime"
   ]
  },
  {
   "cell_type": "code",
   "execution_count": 157,
   "id": "c9183eb4-4d89-4a5b-9532-634d36d1c63e",
   "metadata": {},
   "outputs": [
    {
     "data": {
      "text/html": [
       "<div>\n",
       "<style scoped>\n",
       "    .dataframe tbody tr th:only-of-type {\n",
       "        vertical-align: middle;\n",
       "    }\n",
       "\n",
       "    .dataframe tbody tr th {\n",
       "        vertical-align: top;\n",
       "    }\n",
       "\n",
       "    .dataframe thead th {\n",
       "        text-align: right;\n",
       "    }\n",
       "</style>\n",
       "<table border=\"1\" class=\"dataframe\">\n",
       "  <thead>\n",
       "    <tr style=\"text-align: right;\">\n",
       "      <th></th>\n",
       "      <th>dates</th>\n",
       "      <th>values</th>\n",
       "    </tr>\n",
       "  </thead>\n",
       "  <tbody>\n",
       "    <tr>\n",
       "      <th>0</th>\n",
       "      <td>2000-01-31</td>\n",
       "      <td>110.6</td>\n",
       "    </tr>\n",
       "    <tr>\n",
       "      <th>1</th>\n",
       "      <td>2000-02-29</td>\n",
       "      <td>113.3</td>\n",
       "    </tr>\n",
       "    <tr>\n",
       "      <th>2</th>\n",
       "      <td>2000-03-31</td>\n",
       "      <td>107.6</td>\n",
       "    </tr>\n",
       "  </tbody>\n",
       "</table>\n",
       "</div>"
      ],
      "text/plain": [
       "       dates  values\n",
       "0 2000-01-31   110.6\n",
       "1 2000-02-29   113.3\n",
       "2 2000-03-31   107.6"
      ]
     },
     "execution_count": 157,
     "metadata": {},
     "output_type": "execute_result"
    }
   ],
   "source": [
    "df = pd.DataFrame(ipp)\n",
    "\n",
    "df.dates = pd.to_datetime(df.dates, format='%d.%m.%Y')\n",
    "df.head(3)"
   ]
  },
  {
   "cell_type": "code",
   "execution_count": 158,
   "id": "1048ebb4-0c23-45f0-9b58-8933afc42ad7",
   "metadata": {},
   "outputs": [],
   "source": [
    "next_data = [datetime(year=2024, month=i, day=1) for i in range(4, 7)]"
   ]
  },
  {
   "cell_type": "code",
   "execution_count": 164,
   "id": "6a20bc30-cfc8-42a5-be88-dda86d42c5ff",
   "metadata": {},
   "outputs": [
    {
     "data": {
      "image/png": "[encoded data removed]",
      "text/plain": [
       "<Figure size 1500x800 with 1 Axes>"
      ]
     },
     "metadata": {},
     "output_type": "display_data"
    }
   ],
   "source": [
    "fig, ax = plt.subplots(figsize=(15, 8))\n",
    "\n",
    "ax.set_title('Индекс промышленного производства')\n",
    "\n",
    "ax.plot(df.dates, df['values'], label='Фактические значения')\n",
    "ax.plot(df[df.dates >= datetime(year=2015, month=1, day=1)]['dates'][1:], forecast['previous'], label='Прогноз на предыдущие значения')\n",
    "ax.plot(next_data, forecast['predict'], label='Прогноз')\n",
    "\n",
    "ax.legend()\n",
    "ax.grid()"
   ]
  }
 ],
 "metadata": {
  "kernelspec": {
   "display_name": "Python 3 (ipykernel)",
   "language": "python",
   "name": "python3"
  },
  "language_info": {
   "codemirror_mode": {
    "name": "ipython",
    "version": 3
   },
   "file_extension": ".py",
   "mimetype": "text/x-python",
   "name": "python",
   "nbconvert_exporter": "python",
   "pygments_lexer": "ipython3",
   "version": "3.11.8"
  }
 },
 "nbformat": 4,
 "nbformat_minor": 5
}
