{
 "cells": [
  {
   "cell_type": "code",
   "execution_count": 1,
   "id": "b2d15a57-304f-400b-b24e-6f86d07d3ae1",
   "metadata": {},
   "outputs": [
    {
     "name": "stdout",
     "output_type": "stream",
     "text": [
      "Defaulting to user installation because normal site-packages is not writeable\n",
      "\u001b[33mDEPRECATION: Loading egg at /usr/local/lib/python3.11/dist-packages/pycups-2.0.1-py3.11-linux-x86_64.egg is deprecated. pip 24.3 will enforce this behaviour change. A possible replacement is to use pip for package installation.. Discussion can be found at https://github.com/pypa/pip/issues/12330\u001b[0m\u001b[33m\n",
      "\u001b[0m\u001b[33mDEPRECATION: Loading egg at /usr/local/lib/python3.11/dist-packages/PyPDF3-0.0.1-py3.11.egg is deprecated. pip 24.3 will enforce this behaviour change. A possible replacement is to use pip for package installation.. Discussion can be found at https://github.com/pypa/pip/issues/12330\u001b[0m\u001b[33m\n",
      "\u001b[0mCollecting pyfunctional\n",
      "  Downloading pyfunctional-1.5.0-py3-none-any.whl.metadata (40 kB)\n",
      "\u001b[2K     \u001b[38;2;114;156;31m━━━━━━━━━━━━━━━━━━━━━━━━━━━━━━━━━━━━━━━\u001b[0m \u001b[32m40.4/40.4 kB\u001b[0m \u001b[31m723.6 kB/s\u001b[0m eta \u001b[36m0:00:00\u001b[0m1m632.5 kB/s\u001b[0m eta \u001b[36m0:00:01\u001b[0m\n",
      "\u001b[?25hRequirement already satisfied: dill>=0.2.5 in /home/misha/.local/lib/python3.11/site-packages (from pyfunctional) (0.3.8)\n",
      "Requirement already satisfied: tabulate<=1.0.0 in /usr/lib/python3/dist-packages (from pyfunctional) (0.8.10)\n",
      "Downloading pyfunctional-1.5.0-py3-none-any.whl (53 kB)\n",
      "\u001b[2K   \u001b[38;2;114;156;31m━━━━━━━━━━━━━━━━━━━━━━━━━━━━━━━━━━━━━━━━\u001b[0m \u001b[32m53.1/53.1 kB\u001b[0m \u001b[31m1.0 MB/s\u001b[0m eta \u001b[36m0:00:00\u001b[0m[31m1.2 MB/s\u001b[0m eta \u001b[36m0:00:01\u001b[0m\n",
      "\u001b[?25hInstalling collected packages: pyfunctional\n",
      "Successfully installed pyfunctional-1.5.0\n",
      "\n",
      "\u001b[1m[\u001b[0m\u001b[34;49mnotice\u001b[0m\u001b[1;39;49m]\u001b[0m\u001b[39;49m A new release of pip is available: \u001b[0m\u001b[31;49m24.0\u001b[0m\u001b[39;49m -> \u001b[0m\u001b[32;49m24.1.2\u001b[0m\n",
      "\u001b[1m[\u001b[0m\u001b[34;49mnotice\u001b[0m\u001b[1;39;49m]\u001b[0m\u001b[39;49m To update, run: \u001b[0m\u001b[32;49mpip install --upgrade pip\u001b[0m\n"
     ]
    }
   ],
   "source": [
    "!pip install pyfunctional"
   ]
  },
  {
   "cell_type": "code",
   "execution_count": 11,
   "id": "cf6ecf14-46dd-4f61-b99c-f01297f7aa7e",
   "metadata": {},
   "outputs": [],
   "source": [
    "from functional import seq\n",
    "from functional.pipeline import Sequence\n",
    "from dataclasses import dataclass\n",
    "from collections import namedtuple"
   ]
  },
  {
   "cell_type": "code",
   "execution_count": 8,
   "id": "fb2aea59-3f3e-45a5-8401-514cbe367e63",
   "metadata": {},
   "outputs": [],
   "source": [
    "TimeSeries = namedtuple(\"TimeSeries\", \"date value\")"
   ]
  },
  {
   "cell_type": "code",
   "execution_count": 10,
   "id": "4299c122-7172-4c1b-b1c1-71e9f88b0a13",
   "metadata": {},
   "outputs": [
    {
     "data": {
      "text/plain": [
       "functional.pipeline.Sequence"
      ]
     },
     "execution_count": 10,
     "metadata": {},
     "output_type": "execute_result"
    }
   ],
   "source": [
    "type(seq())"
   ]
  },
  {
   "cell_type": "code",
   "execution_count": 15,
   "id": "d0b9be9b-048e-4ed8-8679-38c0b4256575",
   "metadata": {},
   "outputs": [
    {
     "ename": "TypeError",
     "evalue": "type 'Sequence' is not subscriptable",
     "output_type": "error",
     "traceback": [
      "\u001b[0;31m---------------------------------------------------------------------------\u001b[0m",
      "\u001b[0;31mTypeError\u001b[0m                                 Traceback (most recent call last)",
      "Cell \u001b[0;32mIn[15], line 2\u001b[0m\n\u001b[1;32m      1\u001b[0m \u001b[38;5;129;43m@dataclass\u001b[39;49m\u001b[43m(\u001b[49m\u001b[43mfrozen\u001b[49m\u001b[38;5;241;43m=\u001b[39;49m\u001b[38;5;28;43;01mTrue\u001b[39;49;00m\u001b[43m)\u001b[49m\n\u001b[0;32m----> 2\u001b[0m \u001b[38;5;28;43;01mclass\u001b[39;49;00m\u001b[43m \u001b[49m\u001b[38;5;21;43;01mETLService\u001b[39;49;00m\u001b[43m:\u001b[49m\n\u001b[1;32m      3\u001b[0m \u001b[43m    \u001b[49m\u001b[43mipp\u001b[49m\u001b[43m:\u001b[49m\u001b[43m \u001b[49m\u001b[43mSequence\u001b[49m\u001b[43m[\u001b[49m\u001b[43mTimeSeries\u001b[49m\u001b[43m]\u001b[49m\n\u001b[1;32m      4\u001b[0m \u001b[43m    \u001b[49m\u001b[43mipc\u001b[49m\u001b[43m:\u001b[49m\u001b[43m \u001b[49m\u001b[43mSequence\u001b[49m\u001b[43m[\u001b[49m\u001b[43mTimeSeries\u001b[49m\u001b[43m]\u001b[49m\n",
      "Cell \u001b[0;32mIn[15], line 3\u001b[0m, in \u001b[0;36mETLService\u001b[0;34m()\u001b[0m\n\u001b[1;32m      1\u001b[0m \u001b[38;5;129m@dataclass\u001b[39m(frozen\u001b[38;5;241m=\u001b[39m\u001b[38;5;28;01mTrue\u001b[39;00m)\n\u001b[1;32m      2\u001b[0m \u001b[38;5;28;01mclass\u001b[39;00m \u001b[38;5;21;01mETLService\u001b[39;00m:\n\u001b[0;32m----> 3\u001b[0m     ipp: \u001b[43mSequence\u001b[49m\u001b[43m[\u001b[49m\u001b[43mTimeSeries\u001b[49m\u001b[43m]\u001b[49m\n\u001b[1;32m      4\u001b[0m     ipc: Sequence[TimeSeries]\n",
      "\u001b[0;31mTypeError\u001b[0m: type 'Sequence' is not subscriptable"
     ]
    }
   ],
   "source": [
    "@dataclass(frozen=True)\n",
    "class ETLService:\n",
    "    ipp: Sequence[TimeSeries]\n",
    "    ipc: Sequence[TimeSeries]"
   ]
  },
  {
   "cell_type": "code",
   "execution_count": null,
   "id": "94d949eb-ff85-466e-841b-599917051f5a",
   "metadata": {},
   "outputs": [],
   "source": []
  }
 ],
 "metadata": {
  "kernelspec": {
   "display_name": "Python 3 (ipykernel)",
   "language": "python",
   "name": "python3"
  },
  "language_info": {
   "codemirror_mode": {
    "name": "ipython",
    "version": 3
   },
   "file_extension": ".py",
   "mimetype": "text/x-python",
   "name": "python",
   "nbconvert_exporter": "python",
   "pygments_lexer": "ipython3",
   "version": "3.11.8"
  }
 },
 "nbformat": 4,
 "nbformat_minor": 5
}
